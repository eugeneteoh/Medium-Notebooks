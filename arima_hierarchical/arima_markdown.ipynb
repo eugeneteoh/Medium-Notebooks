{
 "metadata": {
  "language_info": {
   "codemirror_mode": {
    "name": "ipython",
    "version": 3
   },
   "file_extension": ".py",
   "mimetype": "text/x-python",
   "name": "python",
   "nbconvert_exporter": "python",
   "pygments_lexer": "ipython3",
   "version": "3.8.5-final"
  },
  "orig_nbformat": 2,
  "kernelspec": {
   "name": "python3",
   "display_name": "Python 3.8.5 64-bit ('datapane': conda)",
   "metadata": {
    "interpreter": {
     "hash": "2f3a60b7c94ab3fedd092cd02f1232365f1253a41e37b2208f48e3efdbe76401"
    }
   }
  }
 },
 "nbformat": 4,
 "nbformat_minor": 2,
 "cells": [
  {
   "cell_type": "code",
   "execution_count": 1,
   "metadata": {},
   "outputs": [],
   "source": [
    "import pandas as pd\n",
    "import datapane as dp"
   ]
  },
  {
   "cell_type": "code",
   "execution_count": 13,
   "metadata": {},
   "outputs": [
    {
     "output_type": "execute_result",
     "data": {
      "text/plain": [
       "<IPython.lib.display.IFrame at 0x7fc45adba410>"
      ],
      "text/html": "\n        <iframe\n            width=\"600\"\n            height=\"500\"\n            src=\"dp-cache/dp-tmp-91owxb08/dp-tmp-grqz6uwd.html\"\n            frameborder=\"0\"\n            allowfullscreen\n        ></iframe>\n        "
     },
     "metadata": {},
     "execution_count": 13
    }
   ],
   "source": [
    "dp.Report(\n",
    "    '# SARIMA for Hierarchical Time Series Forecasting',\n",
    "    'Many of you who have taken any Time Series Analysis class might have heard of ARIMA. It is one of the most widely used time series forecasting methods. Many professionals and companies, particularly the retail industry, still use it to forecast sales for the upcoming months and years for different items or stores. SARIMA is just an extension of ARIMA, which it factors in the seasonality aspect of the time series.',\n",
    "    '## What is SARIMA?',\n",
    "    'SARIMA is an acronym for Seasonal AutoRegressive Integrated Moving Average. As the name suggests, it combines an autoregressive model, differencing (integration is the opposite of differencing) and a moving average model. Lets briefly explain what stationarity and differencing are, we will then move on to autoregressive and moving average models.',\n",
    "    '### Stationarity',\n",
    "    'A stationary time series does not depend on the time when a particular point is observed. Each point in time has a value that is not dependant on another point in time, such as white noise. The plots below are some examples of stationary time series. Other examples may include cyclic data with non-consistent periods.',\n",
    "    \n",
    "\n",
    ").preview()"
   ]
  },
  {
   "cell_type": "code",
   "execution_count": null,
   "metadata": {},
   "outputs": [],
   "source": []
  }
 ]
}