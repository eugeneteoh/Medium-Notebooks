{
  "nbformat": 4,
  "nbformat_minor": 0,
  "metadata": {
    "colab": {
      "name": "medium_arima.ipynb",
      "provenance": [],
      "authorship_tag": "ABX9TyPvbrwyA8J46YiJ7RAUyH9t",
      "include_colab_link": true
    },
    "kernelspec": {
      "name": "python3",
      "display_name": "Python 3"
    }
  },
  "cells": [
    {
      "cell_type": "markdown",
      "metadata": {
        "id": "view-in-github",
        "colab_type": "text"
      },
      "source": [
        "<a href=\"https://colab.research.google.com/github/eugenetwc/Medium-Notebooks/blob/master/arima_hierarchical.ipynb\" target=\"_parent\"><img src=\"https://colab.research.google.com/assets/colab-badge.svg\" alt=\"Open In Colab\"/></a>"
      ]
    },
    {
      "cell_type": "markdown",
      "metadata": {
        "id": "nHMs-PMQgnl3"
      },
      "source": [
        "# ARIMA for Hierarchical Time Series Forecasting"
      ]
    },
    {
      "cell_type": "code",
      "metadata": {
        "id": "9ExxYtcZceZF",
        "outputId": "7c359308-e0e2-45f6-a3f3-dedc59cd1f95",
        "colab": {
          "base_uri": "https://localhost:8080/"
        }
      },
      "source": [
        "!pip install datapane"
      ],
      "execution_count": 33,
      "outputs": [
        {
          "output_type": "stream",
          "text": [
            "Requirement already satisfied: datapane in /usr/local/lib/python3.6/dist-packages (0.8.5)\n",
            "Requirement already satisfied: numpy<2.0.0,>=1.18.0 in /usr/local/lib/python3.6/dist-packages (from datapane) (1.18.5)\n",
            "Requirement already satisfied: altair<5.0.0,>=4.0.0 in /usr/local/lib/python3.6/dist-packages (from datapane) (4.1.0)\n",
            "Requirement already satisfied: tabulate<0.9.0,>=0.8.7 in /usr/local/lib/python3.6/dist-packages (from datapane) (0.8.7)\n",
            "Requirement already satisfied: requests<3.0.0,>=2.20.0 in /usr/local/lib/python3.6/dist-packages (from datapane) (2.23.0)\n",
            "Requirement already satisfied: ruamel.yaml<0.17.0,>=0.16.5 in /usr/local/lib/python3.6/dist-packages (from datapane) (0.16.12)\n",
            "Requirement already satisfied: toolz<0.11.0,>=0.10.0 in /usr/local/lib/python3.6/dist-packages (from datapane) (0.10.0)\n",
            "Requirement already satisfied: requests-toolbelt<0.10.0,>=0.9.1 in /usr/local/lib/python3.6/dist-packages (from datapane) (0.9.1)\n",
            "Requirement already satisfied: furl<3.0.0,>=2.1.0 in /usr/local/lib/python3.6/dist-packages (from datapane) (2.1.0)\n",
            "Requirement already satisfied: pyarrow<0.18.0,>=0.17.0 in /usr/local/lib/python3.6/dist-packages (from datapane) (0.17.1)\n",
            "Requirement already satisfied: packaging<21.0,>=20.3 in /usr/local/lib/python3.6/dist-packages (from datapane) (20.4)\n",
            "Requirement already satisfied: validators<0.19.0,>=0.18.0 in /usr/local/lib/python3.6/dist-packages (from datapane) (0.18.1)\n",
            "Requirement already satisfied: dacite<2.0.0,>=1.2.0 in /usr/local/lib/python3.6/dist-packages (from datapane) (1.5.1)\n",
            "Requirement already satisfied: click<8.0.0,>=7.0.0 in /usr/local/lib/python3.6/dist-packages (from datapane) (7.1.2)\n",
            "Requirement already satisfied: importlib_resources<4.0.0,>=3.0.0 in /usr/local/lib/python3.6/dist-packages (from datapane) (3.3.0)\n",
            "Requirement already satisfied: lxml<5.0.0,>=4.5.2 in /usr/local/lib/python3.6/dist-packages (from datapane) (4.6.1)\n",
            "Requirement already satisfied: stringcase<2.0.0,>=1.2.0 in /usr/local/lib/python3.6/dist-packages (from datapane) (1.2.0)\n",
            "Requirement already satisfied: plotly<5.0.0,>=4.8.1 in /usr/local/lib/python3.6/dist-packages (from datapane) (4.12.0)\n",
            "Requirement already satisfied: nbconvert<6.1.0,>=6.0.0 in /usr/local/lib/python3.6/dist-packages (from datapane) (6.0.7)\n",
            "Requirement already satisfied: matplotlib<4.0.0,>=3.1.0 in /usr/local/lib/python3.6/dist-packages (from datapane) (3.2.2)\n",
            "Requirement already satisfied: colorlog<5.0.0,>=4.1.0 in /usr/local/lib/python3.6/dist-packages (from datapane) (4.6.2)\n",
            "Requirement already satisfied: jinja2<3.0.0,>=2.11.1 in /usr/local/lib/python3.6/dist-packages (from datapane) (2.11.2)\n",
            "Requirement already satisfied: jsonschema<4.0.0,>=3.2.0 in /usr/local/lib/python3.6/dist-packages (from datapane) (3.2.0)\n",
            "Requirement already satisfied: folium<0.12.0,>=0.11.0 in /usr/local/lib/python3.6/dist-packages (from datapane) (0.11.0)\n",
            "Requirement already satisfied: click-spinner<0.2.0,>=0.1.8 in /usr/local/lib/python3.6/dist-packages (from datapane) (0.1.10)\n",
            "Requirement already satisfied: bokeh<3.0.0,>=2.0.0 in /usr/local/lib/python3.6/dist-packages (from datapane) (2.1.1)\n",
            "Requirement already satisfied: PyYAML<6.0.0,>=5.1.0 in /usr/local/lib/python3.6/dist-packages (from datapane) (5.3.1)\n",
            "Requirement already satisfied: munch<3.0.0,>=2.5.0 in /usr/local/lib/python3.6/dist-packages (from datapane) (2.5.0)\n",
            "Requirement already satisfied: pandas<2.0.0,>=1.0.1 in /usr/local/lib/python3.6/dist-packages (from datapane) (1.1.4)\n",
            "Requirement already satisfied: flit-core<2.4.0,>=2.3.0 in /usr/local/lib/python3.6/dist-packages (from datapane) (2.3.0)\n",
            "Requirement already satisfied: entrypoints in /usr/local/lib/python3.6/dist-packages (from altair<5.0.0,>=4.0.0->datapane) (0.3)\n",
            "Requirement already satisfied: certifi>=2017.4.17 in /usr/local/lib/python3.6/dist-packages (from requests<3.0.0,>=2.20.0->datapane) (2020.6.20)\n",
            "Requirement already satisfied: chardet<4,>=3.0.2 in /usr/local/lib/python3.6/dist-packages (from requests<3.0.0,>=2.20.0->datapane) (3.0.4)\n",
            "Requirement already satisfied: urllib3!=1.25.0,!=1.25.1,<1.26,>=1.21.1 in /usr/local/lib/python3.6/dist-packages (from requests<3.0.0,>=2.20.0->datapane) (1.24.3)\n",
            "Requirement already satisfied: idna<3,>=2.5 in /usr/local/lib/python3.6/dist-packages (from requests<3.0.0,>=2.20.0->datapane) (2.10)\n",
            "Requirement already satisfied: ruamel.yaml.clib>=0.1.2; platform_python_implementation == \"CPython\" and python_version < \"3.9\" in /usr/local/lib/python3.6/dist-packages (from ruamel.yaml<0.17.0,>=0.16.5->datapane) (0.2.2)\n",
            "Requirement already satisfied: orderedmultidict>=1.0.1 in /usr/local/lib/python3.6/dist-packages (from furl<3.0.0,>=2.1.0->datapane) (1.0.1)\n",
            "Requirement already satisfied: six>=1.8.0 in /usr/local/lib/python3.6/dist-packages (from furl<3.0.0,>=2.1.0->datapane) (1.15.0)\n",
            "Requirement already satisfied: pyparsing>=2.0.2 in /usr/local/lib/python3.6/dist-packages (from packaging<21.0,>=20.3->datapane) (2.4.7)\n",
            "Requirement already satisfied: decorator>=3.4.0 in /usr/local/lib/python3.6/dist-packages (from validators<0.19.0,>=0.18.0->datapane) (4.4.2)\n",
            "Requirement already satisfied: dataclasses; python_version < \"3.7\" in /usr/local/lib/python3.6/dist-packages (from dacite<2.0.0,>=1.2.0->datapane) (0.7)\n",
            "Requirement already satisfied: zipp>=0.4; python_version < \"3.8\" in /usr/local/lib/python3.6/dist-packages (from importlib_resources<4.0.0,>=3.0.0->datapane) (3.4.0)\n",
            "Requirement already satisfied: retrying>=1.3.3 in /usr/local/lib/python3.6/dist-packages (from plotly<5.0.0,>=4.8.1->datapane) (1.3.3)\n",
            "Requirement already satisfied: defusedxml in /usr/local/lib/python3.6/dist-packages (from nbconvert<6.1.0,>=6.0.0->datapane) (0.6.0)\n",
            "Requirement already satisfied: bleach in /usr/local/lib/python3.6/dist-packages (from nbconvert<6.1.0,>=6.0.0->datapane) (3.2.1)\n",
            "Requirement already satisfied: nbformat>=4.4 in /usr/local/lib/python3.6/dist-packages (from nbconvert<6.1.0,>=6.0.0->datapane) (5.0.8)\n",
            "Requirement already satisfied: jupyter-core in /usr/local/lib/python3.6/dist-packages (from nbconvert<6.1.0,>=6.0.0->datapane) (4.6.3)\n",
            "Requirement already satisfied: pandocfilters>=1.4.1 in /usr/local/lib/python3.6/dist-packages (from nbconvert<6.1.0,>=6.0.0->datapane) (1.4.3)\n",
            "Requirement already satisfied: nbclient<0.6.0,>=0.5.0 in /usr/local/lib/python3.6/dist-packages (from nbconvert<6.1.0,>=6.0.0->datapane) (0.5.1)\n",
            "Requirement already satisfied: pygments>=2.4.1 in /usr/local/lib/python3.6/dist-packages (from nbconvert<6.1.0,>=6.0.0->datapane) (2.6.1)\n",
            "Requirement already satisfied: traitlets>=4.2 in /usr/local/lib/python3.6/dist-packages (from nbconvert<6.1.0,>=6.0.0->datapane) (4.3.3)\n",
            "Requirement already satisfied: mistune<2,>=0.8.1 in /usr/local/lib/python3.6/dist-packages (from nbconvert<6.1.0,>=6.0.0->datapane) (0.8.4)\n",
            "Requirement already satisfied: jupyterlab-pygments in /usr/local/lib/python3.6/dist-packages (from nbconvert<6.1.0,>=6.0.0->datapane) (0.1.2)\n",
            "Requirement already satisfied: testpath in /usr/local/lib/python3.6/dist-packages (from nbconvert<6.1.0,>=6.0.0->datapane) (0.4.4)\n",
            "Requirement already satisfied: kiwisolver>=1.0.1 in /usr/local/lib/python3.6/dist-packages (from matplotlib<4.0.0,>=3.1.0->datapane) (1.3.1)\n",
            "Requirement already satisfied: cycler>=0.10 in /usr/local/lib/python3.6/dist-packages (from matplotlib<4.0.0,>=3.1.0->datapane) (0.10.0)\n",
            "Requirement already satisfied: python-dateutil>=2.1 in /usr/local/lib/python3.6/dist-packages (from matplotlib<4.0.0,>=3.1.0->datapane) (2.8.1)\n",
            "Requirement already satisfied: MarkupSafe>=0.23 in /usr/local/lib/python3.6/dist-packages (from jinja2<3.0.0,>=2.11.1->datapane) (1.1.1)\n",
            "Requirement already satisfied: importlib-metadata; python_version < \"3.8\" in /usr/local/lib/python3.6/dist-packages (from jsonschema<4.0.0,>=3.2.0->datapane) (2.0.0)\n",
            "Requirement already satisfied: attrs>=17.4.0 in /usr/local/lib/python3.6/dist-packages (from jsonschema<4.0.0,>=3.2.0->datapane) (20.2.0)\n",
            "Requirement already satisfied: pyrsistent>=0.14.0 in /usr/local/lib/python3.6/dist-packages (from jsonschema<4.0.0,>=3.2.0->datapane) (0.17.3)\n",
            "Requirement already satisfied: setuptools in /usr/local/lib/python3.6/dist-packages (from jsonschema<4.0.0,>=3.2.0->datapane) (50.3.2)\n",
            "Requirement already satisfied: branca>=0.3.0 in /usr/local/lib/python3.6/dist-packages (from folium<0.12.0,>=0.11.0->datapane) (0.4.1)\n",
            "Requirement already satisfied: typing-extensions>=3.7.4 in /usr/local/lib/python3.6/dist-packages (from bokeh<3.0.0,>=2.0.0->datapane) (3.7.4.3)\n",
            "Requirement already satisfied: tornado>=5.1 in /usr/local/lib/python3.6/dist-packages (from bokeh<3.0.0,>=2.0.0->datapane) (5.1.1)\n",
            "Requirement already satisfied: pillow>=4.0 in /usr/local/lib/python3.6/dist-packages (from bokeh<3.0.0,>=2.0.0->datapane) (7.0.0)\n",
            "Requirement already satisfied: pytz>=2017.2 in /usr/local/lib/python3.6/dist-packages (from pandas<2.0.0,>=1.0.1->datapane) (2018.9)\n",
            "Requirement already satisfied: pytoml in /usr/local/lib/python3.6/dist-packages (from flit-core<2.4.0,>=2.3.0->datapane) (0.1.21)\n",
            "Requirement already satisfied: webencodings in /usr/local/lib/python3.6/dist-packages (from bleach->nbconvert<6.1.0,>=6.0.0->datapane) (0.5.1)\n",
            "Requirement already satisfied: ipython-genutils in /usr/local/lib/python3.6/dist-packages (from nbformat>=4.4->nbconvert<6.1.0,>=6.0.0->datapane) (0.2.0)\n",
            "Requirement already satisfied: jupyter-client>=6.1.5 in /usr/local/lib/python3.6/dist-packages (from nbclient<0.6.0,>=0.5.0->nbconvert<6.1.0,>=6.0.0->datapane) (6.1.7)\n",
            "Requirement already satisfied: nest-asyncio in /usr/local/lib/python3.6/dist-packages (from nbclient<0.6.0,>=0.5.0->nbconvert<6.1.0,>=6.0.0->datapane) (1.4.2)\n",
            "Requirement already satisfied: async-generator in /usr/local/lib/python3.6/dist-packages (from nbclient<0.6.0,>=0.5.0->nbconvert<6.1.0,>=6.0.0->datapane) (1.10)\n",
            "Requirement already satisfied: pyzmq>=13 in /usr/local/lib/python3.6/dist-packages (from jupyter-client>=6.1.5->nbclient<0.6.0,>=0.5.0->nbconvert<6.1.0,>=6.0.0->datapane) (19.0.2)\n"
          ],
          "name": "stdout"
        }
      ]
    },
    {
      "cell_type": "code",
      "metadata": {
        "id": "_atKloFWjdf3",
        "outputId": "ae671c24-f10c-4d52-dbac-9ad28eb7111e",
        "colab": {
          "base_uri": "https://localhost:8080/"
        }
      },
      "source": [
        "!datapane login"
      ],
      "execution_count": 40,
      "outputs": [
        {
          "output_type": "stream",
          "text": [
            "Your API Token: 654be96dcc42383bf464a962c6cd3c068e4a2a3b\n",
            "\u001b[32mConnected successfully to https://datapane.com as eugene\u001b[0m\n"
          ],
          "name": "stdout"
        }
      ]
    },
    {
      "cell_type": "markdown",
      "metadata": {
        "id": "K6ATLvNagiNe"
      },
      "source": [
        "## Stationarity"
      ]
    },
    {
      "cell_type": "code",
      "metadata": {
        "id": "YCUgrNwjckp6"
      },
      "source": [
        "import datapane as dp\n",
        "import pandas as pd\n",
        "import numpy as np"
      ],
      "execution_count": 34,
      "outputs": []
    },
    {
      "cell_type": "code",
      "metadata": {
        "id": "vRcb1uukc-_y",
        "outputId": "df70eacd-a7e8-416e-a192-cd4534176994",
        "colab": {
          "base_uri": "https://localhost:8080/",
          "height": 204
        }
      },
      "source": [
        "date = pd.date_range(start='2020-01-01', end='2020-09-01', freq='D')\n",
        "y = np.random.normal(0, 10, size=date.shape)\n",
        "df_stationary_1 = pd.DataFrame({'y': y}, index=date)\n",
        "df_stationary_1.head()"
      ],
      "execution_count": 28,
      "outputs": [
        {
          "output_type": "execute_result",
          "data": {
            "text/html": [
              "<div>\n",
              "<style scoped>\n",
              "    .dataframe tbody tr th:only-of-type {\n",
              "        vertical-align: middle;\n",
              "    }\n",
              "\n",
              "    .dataframe tbody tr th {\n",
              "        vertical-align: top;\n",
              "    }\n",
              "\n",
              "    .dataframe thead th {\n",
              "        text-align: right;\n",
              "    }\n",
              "</style>\n",
              "<table border=\"1\" class=\"dataframe\">\n",
              "  <thead>\n",
              "    <tr style=\"text-align: right;\">\n",
              "      <th></th>\n",
              "      <th>y</th>\n",
              "    </tr>\n",
              "  </thead>\n",
              "  <tbody>\n",
              "    <tr>\n",
              "      <th>2020-01-01</th>\n",
              "      <td>0.352118</td>\n",
              "    </tr>\n",
              "    <tr>\n",
              "      <th>2020-01-02</th>\n",
              "      <td>-13.150680</td>\n",
              "    </tr>\n",
              "    <tr>\n",
              "      <th>2020-01-03</th>\n",
              "      <td>-23.143180</td>\n",
              "    </tr>\n",
              "    <tr>\n",
              "      <th>2020-01-04</th>\n",
              "      <td>8.911440</td>\n",
              "    </tr>\n",
              "    <tr>\n",
              "      <th>2020-01-05</th>\n",
              "      <td>10.169638</td>\n",
              "    </tr>\n",
              "  </tbody>\n",
              "</table>\n",
              "</div>"
            ],
            "text/plain": [
              "                    y\n",
              "2020-01-01   0.352118\n",
              "2020-01-02 -13.150680\n",
              "2020-01-03 -23.143180\n",
              "2020-01-04   8.911440\n",
              "2020-01-05  10.169638"
            ]
          },
          "metadata": {
            "tags": []
          },
          "execution_count": 28
        }
      ]
    },
    {
      "cell_type": "code",
      "metadata": {
        "id": "Jpv9AFGndqMx",
        "outputId": "82e2fa52-08ea-4c90-e2f6-3caba284d15e",
        "colab": {
          "base_uri": "https://localhost:8080/",
          "height": 277
        }
      },
      "source": [
        "stationary_1_plot = df_stationary_1.plot()"
      ],
      "execution_count": 36,
      "outputs": [
        {
          "output_type": "display_data",
          "data": {
            "image/png": "[encoded data removed]",
            "text/plain": [
              "<Figure size 432x288 with 1 Axes>"
            ]
          },
          "metadata": {
            "tags": [],
            "needs_background": "light"
          }
        }
      ]
    },
    {
      "cell_type": "code",
      "metadata": {
        "id": "GJhQDtfxgx79",
        "outputId": "d1e5bf60-0c61-4222-e520-7279a81c6937",
        "colab": {
          "base_uri": "https://localhost:8080/"
        }
      },
      "source": [
        "dp.Report(\n",
        "    dp.Plot(stationary_1_plot)\n",
        ").publish(name='ARIMA for Hierarchical Time Series Forecasting', open=True)"
      ],
      "execution_count": 41,
      "outputs": [
        {
          "output_type": "stream",
          "text": [
            "Publishing report and associated data - please wait..\n",
            "Report successfully published at https://datapane.com/u/eugene/reports/arima-for-hierarchical-time-series-forecasting/\n"
          ],
          "name": "stdout"
        }
      ]
    },
    {
      "cell_type": "code",
      "metadata": {
        "id": "ovUdsCTzi-3c"
      },
      "source": [
        ""
      ],
      "execution_count": null,
      "outputs": []
    }
  ]
}